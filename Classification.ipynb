{
 "cells": [
  {
   "cell_type": "code",
   "execution_count": 1,
   "metadata": {
    "collapsed": true
   },
   "outputs": [],
   "source": [
    "classes = ['CALsuburb', 'MIThighway', 'MITopencountry', 'PARoffice', 'livingroom', \\\n",
    "            'MITcoast', 'MITinsidecity', 'MITstreet', 'bedroom', \\\n",
    "            'MITforest', 'MITmountain', 'MITtallbuilding', 'kitchen']\n",
    "import numpy as np\n",
    "import os\n",
    "import collections\n",
    "import csv"
   ]
  },
  {
   "cell_type": "markdown",
   "metadata": {},
   "source": [
    "# Option 1: \n",
    "# Load X_train, X_test, Y_train, Y-test, npy\n",
    "# Load the Training and test sets seperately\n",
    "# y_train is assumed to have the same label order as in the above classes\n",
    "\n",
    "# CHANGE THE BELOW FILE NAMES"
   ]
  },
  {
   "cell_type": "code",
   "execution_count": 2,
   "metadata": {
    "collapsed": false
   },
   "outputs": [
    {
     "name": "stdout",
     "output_type": "stream",
     "text": [
      "(3083, 500)\n",
      "(776, 500)\n",
      "(3083, 1)\n",
      "(776, 1)\n"
     ]
    }
   ],
   "source": [
    "X_train = np.load(\"features/X_train-greyscale-pca-500-.npy\")\n",
    "X_test = np.load(\"features/X_test-greyscale-pca-500-.npy\")\n",
    "y_train = np.load(\"features/y_train.npy\")\n",
    "y_test = np.load(\"features/y_test.npy\")\n",
    "\n",
    "print X_train.shape\n",
    "print X_test.shape\n",
    "print y_train.shape\n",
    "print y_test.shape"
   ]
  },
  {
   "cell_type": "markdown",
   "metadata": {},
   "source": [
    "# Option 2: load X and y first as csv, then split into training and test set"
   ]
  },
  {
   "cell_type": "code",
   "execution_count": null,
   "metadata": {
    "collapsed": true
   },
   "outputs": [],
   "source": [
    "import pandas as pd\n",
    "\n",
    "def load_csv_formatted(csvfile):\n",
    "    \"\"\"load csv file according to the format we specified in sharelatex\n",
    "    assume each row is a sample\n",
    "    assume each column is feature\n",
    "    return X, y, featurename\n",
    "    \"\"\"\n",
    "\n",
    "\n",
    "    df = pd.read_csv(csvfile)\n",
    "    matr = df[df.keys()[4:]]\n",
    "    feature_name = df.keys()[4][:-1]\n",
    "    \n",
    "    X = matr.as_matrix()\n",
    "    labels = df['Class_Label']\n",
    "    y = labels.as_matrix()\n",
    "    length = y.shape[0]\n",
    "    \n",
    "    return X, y, feature_name"
   ]
  },
  {
   "cell_type": "markdown",
   "metadata": {},
   "source": [
    "# CHANGE THE FILENAME BELOW TO LOAD"
   ]
  },
  {
   "cell_type": "code",
   "execution_count": 3,
   "metadata": {
    "collapsed": false
   },
   "outputs": [
    {
     "ename": "NameError",
     "evalue": "name 'load_csv_formatted' is not defined",
     "output_type": "error",
     "traceback": [
      "\u001b[0;31m---------------------------------------------------------------------------\u001b[0m",
      "\u001b[0;31mNameError\u001b[0m                                 Traceback (most recent call last)",
      "\u001b[0;32m<ipython-input-3-ea631a4b12ee>\u001b[0m in \u001b[0;36m<module>\u001b[0;34m()\u001b[0m\n\u001b[0;32m----> 1\u001b[0;31m \u001b[0mX\u001b[0m\u001b[0;34m,\u001b[0m \u001b[0my\u001b[0m\u001b[0;34m,\u001b[0m \u001b[0mfeature_name\u001b[0m \u001b[0;34m=\u001b[0m \u001b[0mload_csv_formatted\u001b[0m\u001b[0;34m(\u001b[0m\u001b[0;34m\"features/test_feature.csv\"\u001b[0m\u001b[0;34m)\u001b[0m\u001b[0;34m\u001b[0m\u001b[0m\n\u001b[0m",
      "\u001b[0;31mNameError\u001b[0m: name 'load_csv_formatted' is not defined"
     ]
    }
   ],
   "source": [
    "X, y, feature_name = load_csv_formatted(\"features/test_feature.csv\")"
   ]
  },
  {
   "cell_type": "code",
   "execution_count": null,
   "metadata": {
    "collapsed": true
   },
   "outputs": [],
   "source": [
    "from sklearn.cross_validation import StratifiedKFold\n",
    "\n",
    "#DO NOT CHANGE\n",
    "num_folds = 5\n",
    "rand_seed = 123\n",
    "train_indices, test_indices = next(iter(StratifiedKFold(greyscale_labels.flatten(), n_folds=num_folds, random_state=rand_seed)))\n",
    "\n",
    "X_train, y_train, X_test, y_test = X[train_indices], y[train_indices], X[test_indices], y[test_indices]\n",
    "\n",
    "print \"SHape of training\", X_train.shape\n",
    "print \"SHape of training labels\", y_train.shape\n",
    "print \"SHape of test\", X_test.shape\n",
    "print \"SHape of test labels\", y_test.shape"
   ]
  },
  {
   "cell_type": "markdown",
   "metadata": {},
   "source": [
    "# Option 3: load X and y as npy, then split into trianing and test set (change the filename below)"
   ]
  },
  {
   "cell_type": "code",
   "execution_count": 2,
   "metadata": {
    "collapsed": false
   },
   "outputs": [
    {
     "name": "stdout",
     "output_type": "stream",
     "text": [
      "(3083, 500)\n",
      "(776, 500)\n",
      "(3083, 1)\n",
      "(776, 1)\n"
     ]
    }
   ],
   "source": [
    "X = np.load(\"features/X.npy\")\n",
    "y = np.load(\"features/y.npy\")"
   ]
  },
  {
   "cell_type": "code",
   "execution_count": null,
   "metadata": {
    "collapsed": true
   },
   "outputs": [],
   "source": [
    "from sklearn.cross_validation import StratifiedKFold\n",
    "\n",
    "#DO NOT CHANGE\n",
    "num_folds = 5\n",
    "rand_seed = 123\n",
    "train_indices, test_indices = next(iter(StratifiedKFold(greyscale_labels.flatten(), n_folds=num_folds, random_state=rand_seed)))\n",
    "\n",
    "X_train, y_train, X_test, y_test = X[train_indices], y[train_indices], X[test_indices], y[test_indices]\n",
    "\n",
    "print \"SHape of training\", X_train.shape\n",
    "print \"SHape of training labels\", y_train.shape\n",
    "print \"SHape of test\", X_test.shape\n",
    "print \"SHape of test labels\", y_test.shape"
   ]
  },
  {
   "cell_type": "markdown",
   "metadata": {},
   "source": [
    "# After the loading options, binarize the labels"
   ]
  },
  {
   "cell_type": "code",
   "execution_count": 3,
   "metadata": {
    "collapsed": false
   },
   "outputs": [
    {
     "name": "stdout",
     "output_type": "stream",
     "text": [
      "Let's binarize y so we can do multiclass classification\n",
      "Shape of Y_train after binarized is  (3083, 13)\n",
      "First elements of Y_train are [[0 0 0 0 0 0 0 0 1 0 0 0 0]\n",
      " [0 0 0 0 0 0 0 0 1 0 0 0 0]\n",
      " [0 0 0 0 0 0 0 0 1 0 0 0 0]\n",
      " [0 0 0 0 0 0 0 0 1 0 0 0 0]\n",
      " [0 0 0 0 0 0 0 0 1 0 0 0 0]\n",
      " [0 0 0 0 0 0 0 0 1 0 0 0 0]\n",
      " [0 0 0 0 0 0 0 0 1 0 0 0 0]\n",
      " [0 0 0 0 0 0 0 0 1 0 0 0 0]\n",
      " [0 0 0 0 0 0 0 0 1 0 0 0 0]\n",
      " [0 0 0 0 0 0 0 0 1 0 0 0 0]\n",
      " [0 0 0 0 0 0 0 0 1 0 0 0 0]\n",
      " [0 0 0 0 0 0 0 0 1 0 0 0 0]\n",
      " [0 0 0 0 0 0 0 0 1 0 0 0 0]\n",
      " [0 0 0 0 0 0 0 0 1 0 0 0 0]\n",
      " [0 0 0 0 0 0 0 0 1 0 0 0 0]\n",
      " [0 0 0 0 0 0 0 0 1 0 0 0 0]\n",
      " [0 0 0 0 0 0 0 0 1 0 0 0 0]\n",
      " [0 0 0 0 0 0 0 0 1 0 0 0 0]\n",
      " [0 0 0 0 0 0 0 0 1 0 0 0 0]\n",
      " [0 0 0 0 0 0 0 0 1 0 0 0 0]]\n",
      "First elements of old_y_train are  [8 8 8 8 8 8 8 8 8 8 8 8 8 8 8 8 8 8 8 8]\n"
     ]
    }
   ],
   "source": [
    "from sklearn.preprocessing import LabelBinarizer\n",
    "\n",
    "print \"Let's binarize y so we can do multiclass classification\"\n",
    "lb = LabelBinarizer()\n",
    "lb.fit(y_train)\n",
    "y_train_bin = lb.transform(y_train)\n",
    "y_test_bin = lb.transform(y_test)\n",
    "print \"Shape of Y_train after binarized is \", y_train_bin.shape\n",
    "print \"First elements of Y_train are\", y_train_bin[0:20]\n",
    "\n",
    "old_y_train = lb.inverse_transform(y_train_bin)\n",
    "print \"First elements of old_y_train are \", old_y_train[0:20]"
   ]
  },
  {
   "cell_type": "markdown",
   "metadata": {},
   "source": [
    "# Normalize all the features in X_train and X_test"
   ]
  },
  {
   "cell_type": "code",
   "execution_count": 4,
   "metadata": {
    "collapsed": false
   },
   "outputs": [],
   "source": [
    "from sklearn import preprocessing\n",
    "upper_train_index = len(X_train)\n",
    "X = np.concatenate((X_train, X_test))\n",
    "X = preprocessing.scale(X, axis=0)\n",
    "\n",
    "X_train = X[:upper_train_index]\n",
    "X_test = X[upper_train_index:]\n"
   ]
  },
  {
   "cell_type": "markdown",
   "metadata": {},
   "source": [
    "# Declare the base classification code"
   ]
  },
  {
   "cell_type": "code",
   "execution_count": 5,
   "metadata": {
    "collapsed": true
   },
   "outputs": [],
   "source": [
    "import numpy as np\n",
    "from sklearn import metrics\n",
    "import time\n",
    "\n",
    "\n",
    "\n",
    "# This function trains and returns a dicitonary of results\n",
    "def train(clf, X_train, X_test, y_train, y_test, used_label_binarizer, classes=range(13), name=None):\n",
    "    \"\"\"\n",
    "    Returns: a dict of errors/performance\n",
    "    \"\"\"\n",
    "    t = time.time()\n",
    "    r = collections.OrderedDict()\n",
    "    if name == None:\n",
    "        name = str(clf)\n",
    "    \n",
    "\n",
    "    clf.fit(X_train, y_train)\n",
    "    y_pred = clf.predict(X_test)\n",
    "\n",
    "    \n",
    "    y_test_multi = used_label_binarizer.inverse_transform(y_test)\n",
    "    y_pred_multi = used_label_binarizer.inverse_transform(y_pred)\n",
    "    confusion_matrix = metrics.confusion_matrix(y_test_multi, y_pred_multi)\n",
    "    \n",
    "    \n",
    "    precisions = metrics.precision_score(y_test_multi, y_pred_multi, average=None)\n",
    "    recalls = metrics.recall_score(y_test_multi, y_pred_multi, average=None)\n",
    "    f1scores = metrics.f1_score(y_test_multi, y_pred_multi, average=None)\n",
    "    \n",
    "    precision = metrics.precision_score(y_test_multi, y_pred_multi, average='weighted')\n",
    "    recall = metrics.recall_score(y_test_multi, y_pred_multi, average='weighted')\n",
    "    f1score = metrics.f1_score(y_test_multi, y_pred_multi, average='weighted')    \n",
    "    \n",
    "    auc = metrics.roc_auc_score(y_test, y_pred, average='weighted')\n",
    "    \n",
    "    r['Name'] = clf\n",
    "    r['Precision'] = np.round(precision,2)\n",
    "    r['Recall'] = np.round(recall,2)\n",
    "    r['F1Score'] = np.round(f1score,2)\n",
    "    r[\"Pred\"] = y_pred\n",
    "    r[\"Test\"] = y_test\n",
    "    r['Pred_Multi'] = y_pred_multi\n",
    "    r['Test_Multi'] = y_test_multi\n",
    "    r['Precisions'] = precisions\n",
    "    r['Recalls'] = recalls\n",
    "    r['F1Scores'] = f1scores\n",
    "    for i in range(len(classes)): \n",
    "        r['Precisions_' + str(classes[i])] = precisions[i]\n",
    "        r['Recall_' + str(classes[i])] = recalls[i]\n",
    "        r['F1Score_' + str(classes[i])] = f1scores[i]\n",
    "    \n",
    "    r['Confusion Matrix'] = confusion_matrix\n",
    "    r['Time'] = np.round(time.time() - t, 2)\n",
    "    r['CLF'] = clf\n",
    "    r['Name'] = name\n",
    "    r['AUC'] = auc\n",
    "    try:\n",
    "        r['Param'] = clf.get_params(deep=True)\n",
    "    except AttributeError:\n",
    "        r['Param'] = None\n",
    "    \n",
    "    return r"
   ]
  },
  {
   "cell_type": "markdown",
   "metadata": {},
   "source": [
    "# Declare and make the results directory"
   ]
  },
  {
   "cell_type": "code",
   "execution_count": 6,
   "metadata": {
    "collapsed": false
   },
   "outputs": [
    {
     "name": "stdout",
     "output_type": "stream",
     "text": [
      "mkdir: results: File exists\r\n"
     ]
    }
   ],
   "source": [
    "results_directory = \"results\"\n",
    "\n",
    "!mkdir $results_directory\n",
    "outfile =  results_directory + '/classification_results.csv'"
   ]
  },
  {
   "cell_type": "markdown",
   "metadata": {},
   "source": [
    "# Run all the classifiers. \n",
    "# YOU CAN CHANGE THE BELOW PARAMETERS IF YOU'D LIKE.\n",
    "# Note if it takes too long, you can kill the cell and you'll still have results from the earlier classifiers written out in the results csv file, as well as contained in the results list\n",
    "# Each result in the list is a dictionary of attributes"
   ]
  },
  {
   "cell_type": "code",
   "execution_count": 9,
   "metadata": {
    "collapsed": false
   },
   "outputs": [
    {
     "name": "stdout",
     "output_type": "stream",
     "text": [
      "KNN5\n"
     ]
    },
    {
     "ename": "KeyboardInterrupt",
     "evalue": "",
     "output_type": "error",
     "traceback": [
      "\u001b[0;31m---------------------------------------------------------------------------\u001b[0m",
      "\u001b[0;31mKeyboardInterrupt\u001b[0m                         Traceback (most recent call last)",
      "\u001b[0;32m<ipython-input-9-44af30d55122>\u001b[0m in \u001b[0;36m<module>\u001b[0;34m()\u001b[0m\n\u001b[1;32m     61\u001b[0m     \u001b[0mname\u001b[0m \u001b[0;34m=\u001b[0m \u001b[0;34m'KNN'\u001b[0m \u001b[0;34m+\u001b[0m \u001b[0mstr\u001b[0m\u001b[0;34m(\u001b[0m\u001b[0mknn\u001b[0m\u001b[0;34m.\u001b[0m\u001b[0mget_params\u001b[0m\u001b[0;34m(\u001b[0m\u001b[0;34m)\u001b[0m\u001b[0;34m[\u001b[0m\u001b[0;34m'estimator'\u001b[0m\u001b[0;34m]\u001b[0m\u001b[0;34m.\u001b[0m\u001b[0mget_params\u001b[0m\u001b[0;34m(\u001b[0m\u001b[0;34m)\u001b[0m\u001b[0;34m[\u001b[0m\u001b[0;34m'n_neighbors'\u001b[0m\u001b[0;34m]\u001b[0m\u001b[0;34m)\u001b[0m\u001b[0;34m\u001b[0m\u001b[0m\n\u001b[1;32m     62\u001b[0m     \u001b[0;32mprint\u001b[0m \u001b[0mname\u001b[0m\u001b[0;34m\u001b[0m\u001b[0m\n\u001b[0;32m---> 63\u001b[0;31m     \u001b[0mresult\u001b[0m \u001b[0;34m=\u001b[0m \u001b[0mtrain\u001b[0m\u001b[0;34m(\u001b[0m\u001b[0mknn\u001b[0m\u001b[0;34m,\u001b[0m \u001b[0mX_train\u001b[0m\u001b[0;34m,\u001b[0m \u001b[0mX_test\u001b[0m\u001b[0;34m,\u001b[0m \u001b[0my_train_bin\u001b[0m\u001b[0;34m,\u001b[0m \u001b[0my_test_bin\u001b[0m\u001b[0;34m,\u001b[0m \u001b[0mused_label_binarizer\u001b[0m\u001b[0;34m=\u001b[0m\u001b[0mlb\u001b[0m\u001b[0;34m,\u001b[0m \u001b[0mclasses\u001b[0m\u001b[0;34m=\u001b[0m\u001b[0mclasses\u001b[0m\u001b[0;34m,\u001b[0m \u001b[0mname\u001b[0m\u001b[0;34m=\u001b[0m\u001b[0mname\u001b[0m\u001b[0;34m)\u001b[0m\u001b[0;34m\u001b[0m\u001b[0m\n\u001b[0m\u001b[1;32m     64\u001b[0m     \u001b[0;32mprint\u001b[0m \u001b[0;34m\"Precision\"\u001b[0m\u001b[0;34m,\u001b[0m \u001b[0mresult\u001b[0m\u001b[0;34m[\u001b[0m\u001b[0;34m'Precision'\u001b[0m\u001b[0;34m]\u001b[0m\u001b[0;34m,\u001b[0m \u001b[0;34m\"Recall\"\u001b[0m\u001b[0;34m,\u001b[0m \u001b[0mresult\u001b[0m\u001b[0;34m[\u001b[0m\u001b[0;34m'Recall'\u001b[0m\u001b[0;34m]\u001b[0m\u001b[0;34m,\u001b[0m \u001b[0;34m\"F1Score\"\u001b[0m\u001b[0;34m,\u001b[0m \u001b[0mresult\u001b[0m\u001b[0;34m[\u001b[0m\u001b[0;34m'F1Score'\u001b[0m\u001b[0;34m]\u001b[0m\u001b[0;34m,\u001b[0m \u001b[0;34m\"AUC\"\u001b[0m\u001b[0;34m,\u001b[0m \u001b[0mresult\u001b[0m\u001b[0;34m[\u001b[0m\u001b[0;34m'AUC'\u001b[0m\u001b[0;34m]\u001b[0m\u001b[0;34m,\u001b[0m \u001b[0;34m\"Time\"\u001b[0m\u001b[0;34m,\u001b[0m \u001b[0mresult\u001b[0m\u001b[0;34m[\u001b[0m\u001b[0;34m'Time'\u001b[0m\u001b[0;34m]\u001b[0m\u001b[0;34m\u001b[0m\u001b[0m\n\u001b[1;32m     65\u001b[0m     \u001b[0mresults\u001b[0m\u001b[0;34m.\u001b[0m\u001b[0mappend\u001b[0m\u001b[0;34m(\u001b[0m\u001b[0mresult\u001b[0m\u001b[0;34m)\u001b[0m\u001b[0;34m\u001b[0m\u001b[0m\n",
      "\u001b[0;32m<ipython-input-5-6d3aa8f359f8>\u001b[0m in \u001b[0;36mtrain\u001b[0;34m(clf, X_train, X_test, y_train, y_test, used_label_binarizer, classes, name)\u001b[0m\n\u001b[1;32m     17\u001b[0m \u001b[0;34m\u001b[0m\u001b[0m\n\u001b[1;32m     18\u001b[0m     \u001b[0mclf\u001b[0m\u001b[0;34m.\u001b[0m\u001b[0mfit\u001b[0m\u001b[0;34m(\u001b[0m\u001b[0mX_train\u001b[0m\u001b[0;34m,\u001b[0m \u001b[0my_train\u001b[0m\u001b[0;34m)\u001b[0m\u001b[0;34m\u001b[0m\u001b[0m\n\u001b[0;32m---> 19\u001b[0;31m     \u001b[0my_pred\u001b[0m \u001b[0;34m=\u001b[0m \u001b[0mclf\u001b[0m\u001b[0;34m.\u001b[0m\u001b[0mpredict\u001b[0m\u001b[0;34m(\u001b[0m\u001b[0mX_test\u001b[0m\u001b[0;34m)\u001b[0m\u001b[0;34m\u001b[0m\u001b[0m\n\u001b[0m\u001b[1;32m     20\u001b[0m \u001b[0;34m\u001b[0m\u001b[0m\n\u001b[1;32m     21\u001b[0m \u001b[0;34m\u001b[0m\u001b[0m\n",
      "\u001b[0;32m/Library/Frameworks/Python.framework/Versions/2.7/lib/python2.7/site-packages/sklearn/multiclass.pyc\u001b[0m in \u001b[0;36mpredict\u001b[0;34m(self, X)\u001b[0m\n\u001b[1;32m    319\u001b[0m             \u001b[0mindptr\u001b[0m \u001b[0;34m=\u001b[0m \u001b[0marray\u001b[0m\u001b[0;34m.\u001b[0m\u001b[0marray\u001b[0m\u001b[0;34m(\u001b[0m\u001b[0;34m'i'\u001b[0m\u001b[0;34m,\u001b[0m \u001b[0;34m[\u001b[0m\u001b[0;36m0\u001b[0m\u001b[0;34m]\u001b[0m\u001b[0;34m)\u001b[0m\u001b[0;34m\u001b[0m\u001b[0m\n\u001b[1;32m    320\u001b[0m             \u001b[0;32mfor\u001b[0m \u001b[0me\u001b[0m \u001b[0;32min\u001b[0m \u001b[0mself\u001b[0m\u001b[0;34m.\u001b[0m\u001b[0mestimators_\u001b[0m\u001b[0;34m:\u001b[0m\u001b[0;34m\u001b[0m\u001b[0m\n\u001b[0;32m--> 321\u001b[0;31m                 \u001b[0mindices\u001b[0m\u001b[0;34m.\u001b[0m\u001b[0mextend\u001b[0m\u001b[0;34m(\u001b[0m\u001b[0mnp\u001b[0m\u001b[0;34m.\u001b[0m\u001b[0mwhere\u001b[0m\u001b[0;34m(\u001b[0m\u001b[0m_predict_binary\u001b[0m\u001b[0;34m(\u001b[0m\u001b[0me\u001b[0m\u001b[0;34m,\u001b[0m \u001b[0mX\u001b[0m\u001b[0;34m)\u001b[0m \u001b[0;34m>\u001b[0m \u001b[0mthresh\u001b[0m\u001b[0;34m)\u001b[0m\u001b[0;34m[\u001b[0m\u001b[0;36m0\u001b[0m\u001b[0;34m]\u001b[0m\u001b[0;34m)\u001b[0m\u001b[0;34m\u001b[0m\u001b[0m\n\u001b[0m\u001b[1;32m    322\u001b[0m                 \u001b[0mindptr\u001b[0m\u001b[0;34m.\u001b[0m\u001b[0mappend\u001b[0m\u001b[0;34m(\u001b[0m\u001b[0mlen\u001b[0m\u001b[0;34m(\u001b[0m\u001b[0mindices\u001b[0m\u001b[0;34m)\u001b[0m\u001b[0;34m)\u001b[0m\u001b[0;34m\u001b[0m\u001b[0m\n\u001b[1;32m    323\u001b[0m             \u001b[0mdata\u001b[0m \u001b[0;34m=\u001b[0m \u001b[0mnp\u001b[0m\u001b[0;34m.\u001b[0m\u001b[0mones\u001b[0m\u001b[0;34m(\u001b[0m\u001b[0mlen\u001b[0m\u001b[0;34m(\u001b[0m\u001b[0mindices\u001b[0m\u001b[0;34m)\u001b[0m\u001b[0;34m,\u001b[0m \u001b[0mdtype\u001b[0m\u001b[0;34m=\u001b[0m\u001b[0mint\u001b[0m\u001b[0;34m)\u001b[0m\u001b[0;34m\u001b[0m\u001b[0m\n",
      "\u001b[0;32m/Library/Frameworks/Python.framework/Versions/2.7/lib/python2.7/site-packages/sklearn/multiclass.pyc\u001b[0m in \u001b[0;36m_predict_binary\u001b[0;34m(estimator, X)\u001b[0m\n\u001b[1;32m     82\u001b[0m     \u001b[0;32mexcept\u001b[0m \u001b[0;34m(\u001b[0m\u001b[0mAttributeError\u001b[0m\u001b[0;34m,\u001b[0m \u001b[0mNotImplementedError\u001b[0m\u001b[0;34m)\u001b[0m\u001b[0;34m:\u001b[0m\u001b[0;34m\u001b[0m\u001b[0m\n\u001b[1;32m     83\u001b[0m         \u001b[0;31m# probabilities of the positive class\u001b[0m\u001b[0;34m\u001b[0m\u001b[0;34m\u001b[0m\u001b[0m\n\u001b[0;32m---> 84\u001b[0;31m         \u001b[0mscore\u001b[0m \u001b[0;34m=\u001b[0m \u001b[0mestimator\u001b[0m\u001b[0;34m.\u001b[0m\u001b[0mpredict_proba\u001b[0m\u001b[0;34m(\u001b[0m\u001b[0mX\u001b[0m\u001b[0;34m)\u001b[0m\u001b[0;34m[\u001b[0m\u001b[0;34m:\u001b[0m\u001b[0;34m,\u001b[0m \u001b[0;36m1\u001b[0m\u001b[0;34m]\u001b[0m\u001b[0;34m\u001b[0m\u001b[0m\n\u001b[0m\u001b[1;32m     85\u001b[0m     \u001b[0;32mreturn\u001b[0m \u001b[0mscore\u001b[0m\u001b[0;34m\u001b[0m\u001b[0m\n\u001b[1;32m     86\u001b[0m \u001b[0;34m\u001b[0m\u001b[0m\n",
      "\u001b[0;32m/Library/Frameworks/Python.framework/Versions/2.7/lib/python2.7/site-packages/sklearn/neighbors/classification.pyc\u001b[0m in \u001b[0;36mpredict_proba\u001b[0;34m(self, X)\u001b[0m\n\u001b[1;32m    180\u001b[0m         \u001b[0mX\u001b[0m \u001b[0;34m=\u001b[0m \u001b[0mcheck_array\u001b[0m\u001b[0;34m(\u001b[0m\u001b[0mX\u001b[0m\u001b[0;34m,\u001b[0m \u001b[0maccept_sparse\u001b[0m\u001b[0;34m=\u001b[0m\u001b[0;34m'csr'\u001b[0m\u001b[0;34m)\u001b[0m\u001b[0;34m\u001b[0m\u001b[0m\n\u001b[1;32m    181\u001b[0m \u001b[0;34m\u001b[0m\u001b[0m\n\u001b[0;32m--> 182\u001b[0;31m         \u001b[0mneigh_dist\u001b[0m\u001b[0;34m,\u001b[0m \u001b[0mneigh_ind\u001b[0m \u001b[0;34m=\u001b[0m \u001b[0mself\u001b[0m\u001b[0;34m.\u001b[0m\u001b[0mkneighbors\u001b[0m\u001b[0;34m(\u001b[0m\u001b[0mX\u001b[0m\u001b[0;34m)\u001b[0m\u001b[0;34m\u001b[0m\u001b[0m\n\u001b[0m\u001b[1;32m    183\u001b[0m \u001b[0;34m\u001b[0m\u001b[0m\n\u001b[1;32m    184\u001b[0m         \u001b[0mclasses_\u001b[0m \u001b[0;34m=\u001b[0m \u001b[0mself\u001b[0m\u001b[0;34m.\u001b[0m\u001b[0mclasses_\u001b[0m\u001b[0;34m\u001b[0m\u001b[0m\n",
      "\u001b[0;32m/Library/Frameworks/Python.framework/Versions/2.7/lib/python2.7/site-packages/sklearn/neighbors/base.pyc\u001b[0m in \u001b[0;36mkneighbors\u001b[0;34m(self, X, n_neighbors, return_distance)\u001b[0m\n\u001b[1;32m    372\u001b[0m                     \"or set algorithm='brute'\" % self._fit_method)\n\u001b[1;32m    373\u001b[0m             result = self._tree.query(X, n_neighbors,\n\u001b[0;32m--> 374\u001b[0;31m                                       return_distance=return_distance)\n\u001b[0m\u001b[1;32m    375\u001b[0m         \u001b[0;32melse\u001b[0m\u001b[0;34m:\u001b[0m\u001b[0;34m\u001b[0m\u001b[0m\n\u001b[1;32m    376\u001b[0m             \u001b[0;32mraise\u001b[0m \u001b[0mValueError\u001b[0m\u001b[0;34m(\u001b[0m\u001b[0;34m\"internal: _fit_method not recognized\"\u001b[0m\u001b[0;34m)\u001b[0m\u001b[0;34m\u001b[0m\u001b[0m\n",
      "\u001b[0;31mKeyboardInterrupt\u001b[0m: "
     ]
    }
   ],
   "source": [
    "# run over all classifiers\n",
    "\n",
    "from sklearn.cross_validation import StratifiedKFold\n",
    "from sklearn import metrics\n",
    "from sklearn.neighbors import KNeighborsClassifier\n",
    "from sklearn.ensemble import RandomForestClassifier, AdaBoostClassifier\n",
    "from sklearn import svm\n",
    "from sklearn.multiclass import OneVsRestClassifier\n",
    "from sklearn.naive_bayes import GaussianNB\n",
    "from sklearn.naive_bayes import MultinomialNB\n",
    "from sklearn.linear_model import LogisticRegression\n",
    "from sklearn.tree import DecisionTreeClassifier\n",
    "from sklearn.dummy import DummyClassifier\n",
    "import time\n",
    "\n",
    "\n",
    "results = []\n",
    "\n",
    "# CLASSIFICATION PARAMETERS\n",
    "neighbors = [5, 10, 15]\n",
    "knns = [OneVsRestClassifier(KNeighborsClassifier(n_neighbors = n)) for n in neighbors]\n",
    "\n",
    "\n",
    "num_features = len(X_train[0])\n",
    "Cs = [10.0, 1.0, 0.01]\n",
    "gammas = [1.0, 0.01, 1.0/num_features]\n",
    "\n",
    "svcrbfs = []\n",
    "for C in Cs:\n",
    "    for gamma in gammas:\n",
    "        svcrbf = OneVsRestClassifier(svm.SVC(C=C, gamma=gamma))\n",
    "        svcrbfs.append(svcrbf)\n",
    "\n",
    "lr = OneVsRestClassifier(LogisticRegression())\n",
    "        \n",
    "lsvc = OneVsRestClassifier(svm.LinearSVC())\n",
    "\n",
    "maxLearners = 100\n",
    "maxDepths = [5, 10, 50, 100]\n",
    "dts = [DecisionTreeClassifier(max_depth = maxDepth) for maxDepth in maxDepths]\n",
    "dt1s = [OneVsRestClassifier(DecisionTreeClassifier(max_depth = maxDepth)) for maxDepth in maxDepths]\n",
    "rfs = [RandomForestClassifier(n_estimators = maxLearners, max_depth = maxDepth, warm_start = False) for maxDepth in maxDepths]\n",
    "rf1s = [OneVsRestClassifier(RandomForestClassifier(n_estimators = maxLearners, max_depth = maxDepth, warm_start = False)) for maxDepth in maxDepths]\n",
    "\n",
    "\n",
    "gnb = GaussianNB()\n",
    "\n",
    "\n",
    "\n",
    "ab1 = OneVsRestClassifier(AdaBoostClassifier())\n",
    "\n",
    "dummy = DummyClassifier()\n",
    "dummy1 = OneVsRestClassifier(DummyClassifier())\n",
    "\n",
    "\n",
    "# ----------------------------------------------------------------------------------------------------\n",
    "# Perform the training and result writing below\n",
    "# ----------------------------------------------------------------------------------------------------\n",
    "\n",
    "for knn in knns:\n",
    "    name = 'KNN' + str(knn.get_params()['estimator'].get_params()['n_neighbors'])\n",
    "    print name\n",
    "    result = train(knn, X_train, X_test, y_train_bin, y_test_bin, used_label_binarizer=lb, classes=classes, name=name)\n",
    "    print \"Precision\", result['Precision'], \"Recall\", result['Recall'], \"F1Score\", result['F1Score'], \"AUC\", result['AUC'], \"Time\", result['Time']\n",
    "    results.append(result)\n",
    "    with open(outfile, 'w') as csvfile:\n",
    "        writer = csv.DictWriter(csvfile, fieldnames=results[0].keys())\n",
    "        writer.writeheader()\n",
    "        for row in results:\n",
    "            writer.writerow(row)\n",
    "        print \"Results written to \", outfile\n",
    "\n",
    "            \n",
    "for svcrbf in svcrbfs:\n",
    "    name = 'SVCRBF' + 'C' + str(svcrbf.get_params()['estimator'].get_params()['C']) + 'gamma' + str(svcrbf.get_params()['estimator'].get_params()['gamma'])\n",
    "    print name\n",
    "    result = train(svcrbf, X_train, X_test, y_train_bin, y_test_bin, used_label_binarizer=lb, classes=classes, name=name)\n",
    "    print \"Precision\", result['Precision'], \"Recall\", result['Recall'], \"F1Score\", result['F1Score'], \"AUC\", result['AUC'], \"Time\", result['Time']\n",
    "    results.append(result)\n",
    "    with open(outfile, 'w') as csvfile:\n",
    "        writer = csv.DictWriter(csvfile, fieldnames=results[0].keys())\n",
    "        writer.writeheader()\n",
    "        for row in results:\n",
    "            writer.writerow(row)\n",
    "        print \"Results written to \", outfile\n",
    "\n",
    "\n",
    "name = 'LSVC'\n",
    "print name\n",
    "result = train(lsvc, X_train, X_test, y_train_bin, y_test_bin, used_label_binarizer=lb, classes=classes, name=name)\n",
    "print \"Precision\", result['Precision'], \"Recall\", result['Recall'], \"F1Score\", result['F1Score'], \"AUC\", result['AUC'], \"Time\", result['Time']\n",
    "results.append(result)\n",
    "with open(outfile, 'w') as csvfile:\n",
    "    writer = csv.DictWriter(csvfile, fieldnames=results[0].keys())\n",
    "    writer.writeheader()\n",
    "    for row in results:\n",
    "        writer.writerow(row)\n",
    "    print \"Results written to \", outfile\n",
    "\n",
    "\n",
    "for dt in dts:\n",
    "    name = 'DT' + str(dt.get_params()['estimator'].get_params()['max_depth'])\n",
    "    print name\n",
    "    result = train(dt, X_train, X_test, y_train_bin, y_test_bin, used_label_binarizer=lb, classes=classes, name=name)\n",
    "    print \"Precision\", result['Precision'], \"Recall\", result['Recall'], \"F1Score\", result['F1Score'], \"AUC\", result['AUC'], \"Time\", result['Time']\n",
    "    results.append(result)\n",
    "    with open(outfile, 'w') as csvfile:\n",
    "        writer = csv.DictWriter(csvfile, fieldnames=results[0].keys())\n",
    "        writer.writeheader()\n",
    "        for row in results:\n",
    "            writer.writerow(row)\n",
    "        print \"Results written to \", outfile\n",
    "\n",
    "for dt1 in dt1s:\n",
    "    name = 'DT1' + str(dt1.get_params()['estimator'].get_params()['max_depth'])\n",
    "    print name\n",
    "    result = train(dt1, X_train, X_test, y_train_bin, y_test_bin, used_label_binarizer=lb, classes=classes, name=name)\n",
    "    print \"Precision\", result['Precision'], \"Recall\", result['Recall'], \"F1Score\", result['F1Score'], \"AUC\", result['AUC'], \"Time\", result['Time']\n",
    "    results.append(result)\n",
    "    with open(outfile, 'w') as csvfile:\n",
    "        writer = csv.DictWriter(csvfile, fieldnames=results[0].keys())\n",
    "        writer.writeheader()\n",
    "        for row in results:\n",
    "            writer.writerow(row)\n",
    "        print \"Results written to \", outfile\n",
    "    \n",
    "for rf in rfs:\n",
    "    name = 'RF' + 'max_depth' + str(rf.get_params()['max_depth']) + '_num_learners' + str(rf.get_params()['n_estimators'])\n",
    "    print name\n",
    "    result = train(rf, X_train, X_test, y_train_bin, y_test_bin, used_label_binarizer=lb, classes=classes, name=name)\n",
    "    print \"Precision\", result['Precision'], \"Recall\", result['Recall'], \"F1Score\", result['F1Score'], \"AUC\", result['AUC'], \"Time\", result['Time']\n",
    "    results.append(result)\n",
    "    with open(outfile, 'w') as csvfile:\n",
    "        writer = csv.DictWriter(csvfile, fieldnames=results[0].keys())\n",
    "        writer.writeheader()\n",
    "        for row in results:\n",
    "            writer.writerow(row)\n",
    "        print \"Results written to \", outfile\n",
    "    \n",
    "for rf1 in rf1s:\n",
    "    name = 'RF1' + 'max_depth' + str(rf1.get_params()['estimator'].get_params()['max_depth']) + '_num_learners' + str(rf1.get_params()['estimator'].get_params()['n_estimators'])\n",
    "    print name\n",
    "    result = train(rf1,X_train, X_test, y_train_bin, y_test_bin, used_label_binarizer=lb, classes=classes, name=name)\n",
    "    print \"Precision\", result['Precision'], \"Recall\", result['Recall'], \"F1Score\", result['F1Score'], \"AUC\", result['AUC'], \"Time\", result['Time']\n",
    "    results.append(result)\n",
    "    with open(outfile, 'w') as csvfile:\n",
    "        writer = csv.DictWriter(csvfile, fieldnames=results[0].keys())\n",
    "        writer.writeheader()\n",
    "        for row in results:\n",
    "            writer.writerow(row)\n",
    "        print \"Results written to \", outfile\n",
    "    \n",
    "name = 'GNB'\n",
    "print name\n",
    "result = train(gnb, X_train, X_test, y_train_bin, y_test_bin, used_label_binarizer=lb, classes=classes, name=name)\n",
    "print \"Precision\", result['Precision'], \"Recall\", result['Recall'], \"F1Score\", result['F1Score'], \"AUC\", result['AUC'], \"Time\", result['Time']\n",
    "results.append(result)\n",
    "with open(outfile, 'w') as csvfile:\n",
    "    writer = csv.DictWriter(csvfile, fieldnames=results[0].keys())\n",
    "    writer.writeheader()\n",
    "    for row in results:\n",
    "        writer.writerow(row)\n",
    "    print \"Results written to \", outfile\n",
    "\n",
    "name = 'LR'\n",
    "print name\n",
    "result = train(lr, X_train, X_test, y_train_bin, y_test_bin, used_label_binarizer=lb, classes=classes, name=name)\n",
    "print \"Precision\", result['Precision'], \"Recall\", result['Recall'], \"F1Score\", result['F1Score'], \"AUC\", result['AUC'], \"Time\", result['Time']\n",
    "results.append(result)\n",
    "with open(outfile, 'w') as csvfile:\n",
    "    writer = csv.DictWriter(csvfile, fieldnames=results[0].keys())\n",
    "    writer.writeheader()\n",
    "    for row in results:\n",
    "        writer.writerow(row)\n",
    "    print \"Results written to \", outfile\n",
    "\n",
    "\n",
    "name = 'AB'\n",
    "print name\n",
    "result = train(ab1, X_train, X_test, y_train_bin, y_test_bin, used_label_binarizer=lb, classes=classes, name=name)\n",
    "print \"Precision\", result['Precision'], \"Recall\", result['Recall'], \"F1Score\", result['F1Score'], \"AUC\", result['AUC'], \"Time\", result['Time']\n",
    "results.append(result)\n",
    "with open(outfile, 'w') as csvfile:\n",
    "    writer = csv.DictWriter(csvfile, fieldnames=results[0].keys())\n",
    "    writer.writeheader()\n",
    "    for row in results:\n",
    "        writer.writerow(row)\n",
    "    print \"Results written to \", outfile\n",
    "\n",
    "name = 'Dummy'\n",
    "print name\n",
    "result = train(dummy, X_train, X_test, y_train_bin, y_test_bin, used_label_binarizer=lb, classes=classes, name=name)\n",
    "print \"Precision\", result['Precision'], \"Recall\", result['Recall'], \"F1Score\", result['F1Score'], \"AUC\", result['AUC'], \"Time\", result['Time']\n",
    "results.append(result)\n",
    "with open(outfile, 'w') as csvfile:\n",
    "    writer = csv.DictWriter(csvfile, fieldnames=results[0].keys())\n",
    "    writer.writeheader()\n",
    "    for row in results:\n",
    "        writer.writerow(row)\n",
    "    print \"Results written to \", outfile\n",
    "\n",
    "name = 'Dummy1'\n",
    "print name\n",
    "result = train(dummy1, X_train, X_test, y_train_bin, y_test_bin, used_label_binarizer=lb, classes=classes, name=name)\n",
    "print \"Precision\", result['Precision'], \"Recall\", result['Recall'], \"F1Score\", result['F1Score'], \"AUC\", result['AUC'], \"Time\", result['Time']\n",
    "results.append(result)\n",
    "with open(outfile, 'w') as csvfile:\n",
    "    writer = csv.DictWriter(csvfile, fieldnames=results[0].keys())\n",
    "    writer.writeheader()\n",
    "    for row in results:\n",
    "        writer.writerow(row)\n",
    "    print \"Results written to \", outfile"
   ]
  },
  {
   "cell_type": "markdown",
   "metadata": {},
   "source": [
    "# Find the important Features using random forest gini feature importsnces"
   ]
  },
  {
   "cell_type": "code",
   "execution_count": 66,
   "metadata": {
    "collapsed": false
   },
   "outputs": [],
   "source": [
    "from sklearn.ensemble import RandomForestClassifier\n",
    "import csv\n",
    "\n",
    "feat_file_prefix = \"results/feature_importances_\"\n",
    "maxLearners = 100\n",
    "maxDepth = 10\n",
    "\n",
    "labels = range(13)\n",
    "\n",
    "for i in range(13):\n",
    "    \n",
    "    this_y_train = (y_train == i).flatten()\n",
    "    forest = RandomForestClassifier(n_estimators=maxLearners, max_depth = maxDepth)\n",
    "    forest.fit(X_train, this_y_train)\n",
    "    importances = forest.feature_importances_\n",
    "    indices = np.argsort(importances)[::-1]\n",
    "\n",
    "    with open(feat_file_prefix + str(classes[i]) + \".csv\", 'w') as csvfile:\n",
    "        writer = csv.writer(csvfile)\n",
    "        writer.writerow(['Index', 'Importance'])\n",
    "        for f in range(len(X_train[0])):\n",
    "            writer.writerow([indices[f], importances[indices[f]]])\n",
    "    print \"Feature importances written to \", feat_file_prefix + str(classes[i]) + \".csv\"\n",
    "        "
   ]
  },
  {
   "cell_type": "markdown",
   "metadata": {},
   "source": [
    "# Write a confusion matrix out to csv and plot it."
   ]
  },
  {
   "cell_type": "code",
   "execution_count": 77,
   "metadata": {
    "collapsed": false
   },
   "outputs": [],
   "source": [
    "import matplotlib.pyplot as plt\n",
    "\n",
    "%matplotlib inline\n",
    "def plot_confusion_matrix(cm, title='Confusion matrix', cmap=plt.cm.Blues, classes=classes):\n",
    "    # First normalize into recalls.\n",
    "    cm = np.array(cm) * 1.0 / np.sum(cm, axis=1)\n",
    "    \n",
    "    plt.figure(figsize=(10,10))\n",
    "    plt.imshow(cm, interpolation='nearest', cmap=cmap)\n",
    "    plt.title(title)\n",
    "    plt.colorbar()\n",
    "    tick_marks = np.arange(len(classes))\n",
    "    plt.xticks(tick_marks, classes, rotation=45)\n",
    "    plt.yticks(tick_marks, classes)\n",
    "    plt.tight_layout()\n",
    "    plt.ylabel('True label')\n",
    "    plt.xlabel('Predicted label')\n",
    "    plt.show()"
   ]
  },
  {
   "cell_type": "markdown",
   "metadata": {},
   "source": [
    "# Choose which classifier and name of confusion file below, first"
   ]
  },
  {
   "cell_type": "code",
   "execution_count": 78,
   "metadata": {
    "collapsed": false
   },
   "outputs": [
    {
     "name": "stdout",
     "output_type": "stream",
     "text": [
      "SVC RBF\n"
     ]
    },
    {
     "data": {
      "image/png": "[encoded data removed]",
      "text/plain": [
       "<matplotlib.figure.Figure at 0x10aba3050>"
      ]
     },
     "metadata": {},
     "output_type": "display_data"
    }
   ],
   "source": [
    "# look at confusion matrices of the best\n",
    "\n",
    "\n",
    "# CHOOSE YOUR CLASSIFIER AND FILE NAME\n",
    "clf = OneVsRestClassifier(svm.SVC())\n",
    "confusefile = 'results/????????????????????????.csv'\n",
    "\n",
    "\n",
    "print (\"SVC RBF\")\n",
    "r = train(clf, X_train, X_test, y_train_bin, y_test_bin, used_label_binarizer=lb)\n",
    "\n",
    "confuse = r['Confusion Matrix']\n",
    "\n",
    "plot_confusion_matrix(confuse)\n",
    "\n",
    "with open(confusefile, 'w') as csvfile:\n",
    "    writer = csv.writer(csvfile)\n",
    "    writer.writerow([''] + classes)\n",
    "    for i in range(len(confuse)):\n",
    "        writer.writerow([classes[i]] + list(confuse[i]))"
   ]
  },
  {
   "cell_type": "code",
   "execution_count": null,
   "metadata": {
    "collapsed": true
   },
   "outputs": [],
   "source": []
  }
 ],
 "metadata": {
  "kernelspec": {
   "display_name": "Python 2",
   "language": "python",
   "name": "python2"
  },
  "language_info": {
   "codemirror_mode": {
    "name": "ipython",
    "version": 2
   },
   "file_extension": ".py",
   "mimetype": "text/x-python",
   "name": "python",
   "nbconvert_exporter": "python",
   "pygments_lexer": "ipython2",
   "version": "2.7.10"
  }
 },
 "nbformat": 4,
 "nbformat_minor": 0
}
