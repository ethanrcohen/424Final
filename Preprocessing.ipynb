{
 "cells": [
  {
   "cell_type": "markdown",
   "metadata": {
    "collapsed": true
   },
   "source": [
    "1. Load the data\n",
    "2. Convert RGB to vector?\n",
    "3. Run Dimensionality reductions"
   ]
  },
  {
   "cell_type": "code",
   "execution_count": 2,
   "metadata": {
    "collapsed": false
   },
   "outputs": [
    {
     "name": "stdout",
     "output_type": "stream",
     "text": [
      "\u001b[34mCALsuburb\u001b[m\u001b[m       \u001b[34mMIThighway\u001b[m\u001b[m      \u001b[34mMITopencountry\u001b[m\u001b[m  \u001b[34mPARoffice\u001b[m\u001b[m       \u001b[34mlivingroom\u001b[m\u001b[m\r\n",
      "\u001b[34mMITcoast\u001b[m\u001b[m        \u001b[34mMITinsidecity\u001b[m\u001b[m   \u001b[34mMITstreet\u001b[m\u001b[m       \u001b[34mbedroom\u001b[m\u001b[m\r\n",
      "\u001b[34mMITforest\u001b[m\u001b[m       \u001b[34mMITmountain\u001b[m\u001b[m     \u001b[34mMITtallbuilding\u001b[m\u001b[m \u001b[34mkitchen\u001b[m\u001b[m\r\n"
     ]
    }
   ],
   "source": [
    "!ls data"
   ]
  },
  {
   "cell_type": "code",
   "execution_count": 1,
   "metadata": {
    "collapsed": false
   },
   "outputs": [],
   "source": [
    "from skimage import io\n",
    "import os\n",
    "\n",
    "folders = ['CALsuburb', 'MIThighway', 'MITopencountry', 'PARoffice', 'livingroom', \\\n",
    "            'MITcoast', ' MITinsidecity',   'MITstreet', 'bedroom', \\\n",
    "            'MITforest', 'MITmountain', 'MITtallbuilding', 'kitchen']\n",
    "images = []\n",
    "max_images = 411\n",
    "\n",
    "filenames = ['image_' + str(i+1).zfill(4) + '.jpg' for i in range(max_images)]\n",
    "\n",
    "for folder in folders:\n",
    "    for filename in filenames:\n",
    "        new_filename = \"data/\" + folder + '/' + filename\n",
    "        if os.path.isfile(new_filename):\n",
    "            images.append([io.imread(new_filename), folders.index(folder)])"
   ]
  },
  {
   "cell_type": "code",
   "execution_count": 2,
   "metadata": {
    "collapsed": false
   },
   "outputs": [
    {
     "name": "stdout",
     "output_type": "stream",
     "text": [
      "Mean length  245\n",
      "Mean width  271\n"
     ]
    },
    {
     "data": {
      "image/png": "[encoded data removed]",
      "text/plain": [
       "<matplotlib.figure.Figure at 0x105ac07d0>"
      ]
     },
     "metadata": {},
     "output_type": "display_data"
    },
    {
     "data": {
      "image/png": "[encoded data removed]",
      "text/plain": [
       "<matplotlib.figure.Figure at 0x105ad0790>"
      ]
     },
     "metadata": {},
     "output_type": "display_data"
    }
   ],
   "source": [
    "#Sizes seem to be generally similar...\n",
    "lengths = [images[i][0].shape[0] for i in range(len(images))]\n",
    "widths = [images[i][0].shape[1] for i in range(len(images))]\n",
    "\n",
    "L = int(sum(lengths) * 1.0 / len(lengths))\n",
    "W = int(sum(widths) * 1.0 /len(widths))\n",
    "\n",
    "print \"Mean length \", L\n",
    "print \"Mean width \", W\n",
    "\n",
    "%matplotlib inline\n",
    "\n",
    "import matplotlib.pyplot as plt\n",
    "\n",
    "plt.hist(lengths)\n",
    "plt.xlabel(\"Picture Length\", fontsize=20)\n",
    "plt.ylabel(\"Count\", fontsize=20)\n",
    "plt.show()\n",
    "\n",
    "plt.hist(widths)\n",
    "plt.xlabel(\"Picture Width\", fontsize=20)\n",
    "plt.ylabel(\"Count\", fontsize=20)\n",
    "plt.show()"
   ]
  },
  {
   "cell_type": "markdown",
   "metadata": {},
   "source": [
    "Darn, it looks like the picture widths and lengths vary quite a bit. Hopefully scaling won't change by too much"
   ]
  },
  {
   "cell_type": "code",
   "execution_count": 3,
   "metadata": {
    "collapsed": false
   },
   "outputs": [],
   "source": [
    "# Scaling\n",
    "from skimage import transform\n",
    "\n",
    "for image in images:\n",
    "    image[0] = transform.resize(image[0], (L, W))"
   ]
  },
  {
   "cell_type": "code",
   "execution_count": 4,
   "metadata": {
    "collapsed": false
   },
   "outputs": [
    {
     "name": "stdout",
     "output_type": "stream",
     "text": [
      "Mean of global_pixels  0.454724616661\n",
      "std of global_pixels  0.246327522891\n"
     ]
    }
   ],
   "source": [
    "import numpy as np\n",
    "# Normalize all the pixels\n",
    "\n",
    "flattened_images = [image[0].flatten() for image in images]\n",
    "global_pixels = np.concatenate(flattened_images)\n",
    "\n",
    "mean = np.mean(global_pixels)\n",
    "std = np.std(global_pixels)\n",
    "\n",
    "for image in images:\n",
    "    image[0] = (image[0] - mean) / std\n",
    "\n",
    "print \"Mean of global_pixels \", mean\n",
    "print \"std of global_pixels \", std"
   ]
  },
  {
   "cell_type": "code",
   "execution_count": null,
   "metadata": {
    "collapsed": false
   },
   "outputs": [],
   "source": [
    "# write all the images out\n",
    "directory = \"normalized_data\"\n",
    "!mkdir $directory\n",
    "counts = [0] * len(folders)\n",
    "for image in images:\n",
    "    class_index = image[1]\n",
    "    image_class = folders[class_index]\n",
    "    \n",
    "    counts[class_index] += 1\n",
    "    class_number = counts[class_index]\n",
    "    \n",
    "    filename = directory + \"/\" + image_class + \"_\" + str(class_number)\n",
    "    np.save(filename, image[0])\n",
    "    \n",
    "!ls $directory"
   ]
  },
  {
   "cell_type": "code",
   "execution_count": null,
   "metadata": {
    "collapsed": true
   },
   "outputs": [],
   "source": []
  }
 ],
 "metadata": {
  "kernelspec": {
   "display_name": "Python 2",
   "language": "python",
   "name": "python2"
  },
  "language_info": {
   "codemirror_mode": {
    "name": "ipython",
    "version": 2
   },
   "file_extension": ".py",
   "mimetype": "text/x-python",
   "name": "python",
   "nbconvert_exporter": "python",
   "pygments_lexer": "ipython2",
   "version": "2.7.10"
  }
 },
 "nbformat": 4,
 "nbformat_minor": 0
}
